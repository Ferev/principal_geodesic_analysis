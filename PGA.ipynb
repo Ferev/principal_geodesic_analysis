{
 "cells": [
  {
   "cell_type": "code",
   "execution_count": 1,
   "id": "1b6fb7fc",
   "metadata": {},
   "outputs": [],
   "source": [
    "import numpy as np\n",
    "import matplotlib.pyplot as plt\n",
    "import scipy as sp\n",
    "from scipy.optimize import minimize, NonlinearConstraint, LinearConstraint\n",
    "import pickle"
   ]
  },
  {
   "cell_type": "code",
   "execution_count": 2,
   "id": "ff163f34",
   "metadata": {},
   "outputs": [],
   "source": [
    "def arccosh(x):\n",
    "    if x < 1:\n",
    "        x = 1 + np.abs(x)\n",
    "    return np.arccosh(x)"
   ]
  },
  {
   "cell_type": "code",
   "execution_count": 4,
   "id": "ee2b63c7",
   "metadata": {},
   "outputs": [],
   "source": [
    "def hyperboloid_to_ball(X):\n",
    "    x0 = X[:,0]\n",
    "    newX = []\n",
    "    for i in range(X.shape[0]):\n",
    "        newX.append(X[i]/(1+x0[i]))\n",
    "    \n",
    "    newX = np.array(newX)\n",
    "    return newX"
   ]
  },
  {
   "cell_type": "code",
   "execution_count": 5,
   "id": "e32befa9",
   "metadata": {},
   "outputs": [],
   "source": [
    "def ball_to_hyperboloid(X):\n",
    "    dim = X.shape[1]\n",
    "    N = X.shape[0]\n",
    "    hyp = []\n",
    "    for ix in range(X.shape[0]):\n",
    "        hyp.append(list())\n",
    "        v = X[ix]\n",
    "        l2 = np.linalg.norm(v,2)\n",
    "        hyp[ix].append(np.sqrt(1 + l2**2)/(1-l2**2))\n",
    "        \n",
    "        for jx,x in enumerate(X[ix]):\n",
    "            hyp[ix].append(2*x/(1-l2**2))\n",
    "    hyp = np.asarray(hyp)\n",
    "    return hyp\n",
    "\n",
    "# def ball_to_hyperboloid(X):\n",
    "#     dim = X.shape[1]\n",
    "#     N = X.shape[0]\n",
    "#     hyp = np.zeros((N,dim))\n",
    "#     l2 = np.linalg.norm(X,2, axis=1)\n",
    "#     hyp[:,0] = np.sqrt(1 + l2**2)\n",
    "#     hyp[:, 1:] = X[:, 1:]\n",
    "#     return hyp"
   ]
  },
  {
   "cell_type": "code",
   "execution_count": 6,
   "id": "54f24f78",
   "metadata": {},
   "outputs": [],
   "source": [
    "def obj(gamma, w, dim='2d'):\n",
    "    p1 = np.zeros(gamma.shape[0])\n",
    "    p2 = gamma\n",
    "    \n",
    "    d = lambda p3 : np.abs(np.linalg.norm(np.array([np.cross(p2-p1,p1-p3)]),2))/np.linalg.norm(p2-p1,2)\n",
    "    f = (1/4)*np.sum([arccosh(1 + d(w_i)**2)**2 for w_i in w])\n",
    "    return f\n"
   ]
  },
  {
   "cell_type": "code",
   "execution_count": 7,
   "id": "910a2f6b",
   "metadata": {},
   "outputs": [],
   "source": [
    "def isometry_map(X, fmean):\n",
    "    rho = lambda v: arccosh(v[0])\n",
    "    alpha = lambda jx,v: np.sinh(rho(v))/v[jx]\n",
    "    dim = X.shape[1]\n",
    "    N = X.shape[0]\n",
    "    \n",
    "    y = np.zeros((N,dim))\n",
    "    y[0,:] = np.cosh(rho(X[0,:]) - rho(fmean))\n",
    "    for ix in range(1,N):\n",
    "        v = X[ix]\n",
    "        for jx in range(len(v)):\n",
    "            y[ix,jx] = alpha(jx,v)*np.sinh(rho(v)-rho(fmean))\n",
    "    return y"
   ]
  },
  {
   "cell_type": "code",
   "execution_count": 8,
   "id": "b3a841c5",
   "metadata": {},
   "outputs": [],
   "source": [
    "def find_mean(points):\n",
    "    dim = points.shape[1]\n",
    "    Q = np.zeros((dim,dim))\n",
    "    Q[0,0] = 1\n",
    "    for i in range(1,dim):\n",
    "        Q[i,i] = -1\n",
    "    dL = lambda x,y: arccosh((x.T).dot(Q).dot(y)) # stability\n",
    "    phi = lambda z, points: np.sum([np.sinh(dL(z,p))**2 for p in points])\n",
    "    \n",
    "    z0 = np.array([1,1,1])\n",
    "    opt = {}\n",
    "    opt['disp'] = True\n",
    "    mean = minimize(phi, z0, args=(points),tol=1e-6, options=opt).x\n",
    "    print('Found Mean')\n",
    "    return mean\n",
    "    "
   ]
  },
  {
   "cell_type": "code",
   "execution_count": 9,
   "id": "5402ae26",
   "metadata": {},
   "outputs": [],
   "source": [
    "def PGA(points):\n",
    "    points_hyp = ball_to_hyperboloid(points)\n",
    "    fmean = find_mean(points_hyp)\n",
    "    points_hyp_centered = isometry_map(points, fmean)\n",
    "    points_ball_centered = hyperboloid_to_ball(points_hyp_centered)\n",
    "    \n",
    "    \n",
    "    X = points_ball_centered\n",
    "    w = np.zeros(X.shape)\n",
    "    for ix in range(X.shape[0]):\n",
    "        w[ix] = np.sqrt(8)*X[ix]/(1-np.linalg.norm(X[ix],2))\n",
    "    # phi in range [0,pi]\n",
    "    \n",
    "#   Code is given as proof of concept for 2D\n",
    "#   however this is how it would be parametrized for 3D\n",
    "#     if dim == '3d': \n",
    "#         rads = np.deg2rad(np.random.rand(2)*180)\n",
    "#         gamma0 = [np.cos(rads[0])*np.sin(rads[1]), \n",
    "#                  np.sin(rads[0])*np.cos(rads[1]),\n",
    "#                  np.cos(rads[1])]\n",
    "#     elif dim == '2d':\n",
    "    rad = np.deg2rad(np.random.rand(1)*180)\n",
    "    gamma0 = [np.cos(rad), \n",
    "             np.sin(rad)]\n",
    "    gamma0 = np.array([x[0] for x in gamma0])\n",
    "    \n",
    "    # and we do it for PG1 and PG2\n",
    "    pg1 = minimize(obj, gamma0, args=(w), tol=1e-11).x\n",
    "    con = lambda gamma: np.dot(gamma, pg1) \n",
    "    nlc1 = NonlinearConstraint(con, 0, 0)\n",
    "    opt = {}\n",
    "    opt['disp'] = True\n",
    "    pg2 = minimize(obj, gamma0, args=(w), constraints = (nlc1), tol=1e-11, options=opt).x\n",
    "    return pg1, pg2, fmean"
   ]
  },
  {
   "cell_type": "code",
   "execution_count": 10,
   "id": "0ca6145e",
   "metadata": {},
   "outputs": [
    {
     "name": "stdout",
     "output_type": "stream",
     "text": [
      "Warning: Desired error not necessarily achieved due to precision loss.\n",
      "         Current function value: 0.000084\n",
      "         Iterations: 26\n",
      "         Function evaluations: 413\n",
      "         Gradient evaluations: 102\n",
      "Found Mean\n",
      "[-4.29156971  2.89183681]\n",
      "Optimization terminated successfully    (Exit mode 0)\n",
      "            Current function value: 67.58389305357818\n",
      "            Iterations: 3\n",
      "            Function evaluations: 9\n",
      "            Gradient evaluations: 3\n",
      "[-4.29156971  2.89183681] [-0.50978785 -0.75653995] 1.509903313490213e-14\n"
     ]
    }
   ],
   "source": [
    "# Sample generated with sampling code on  https://github.com/lateral/frechet-mean-hyperboloid\n",
    "with open('sample.pkl', 'rb') as f:\n",
    "    ppoints = pickle.load(f)\n",
    "\n",
    "pg1, pg2, fmean = PGA(ppoints,'2d')\n",
    "print(pg1, pg2, np.dot(pg1, pg2))"
   ]
  },
  {
   "cell_type": "code",
   "execution_count": 13,
   "id": "4d4d2093",
   "metadata": {},
   "outputs": [
    {
     "data": {
      "image/png": "[encoded data removed]",
      "text/plain": [
       "<Figure size 432x288 with 1 Axes>"
      ]
     },
     "metadata": {
      "needs_background": "light"
     },
     "output_type": "display_data"
    }
   ],
   "source": [
    "mn = np.mean(ppoints, axis=0)\n",
    "pg1 = pg1/np.abs(np.linalg.norm(pg1))\n",
    "pg2 = pg2/np.abs(np.linalg.norm(pg2))\n",
    "plt.quiver(*pg1, scale=3, color=['m'], label = 'PG1')\n",
    "plt.quiver(*pg2,scale=7, color=['g'], label='PG2')\n",
    "plt.scatter(ppoints[:,0] - mn[0], ppoints[:,1] - mn[1])\n",
    "plt.scatter(fmean[0], fmean[1], label='mean')\n",
    "plt.title('PG1 and PG2 withCentered Dataset on Ball')\n",
    "plt.legend()\n",
    "plt.xlabel('x')\n",
    "plt.ylabel('y')\n",
    "plt.show()"
   ]
  },
  {
   "cell_type": "code",
   "execution_count": null,
   "id": "d0cc6e14",
   "metadata": {},
   "outputs": [],
   "source": []
  }
 ],
 "metadata": {
  "kernelspec": {
   "display_name": "Python 3 (ipykernel)",
   "language": "python",
   "name": "python3"
  },
  "language_info": {
   "codemirror_mode": {
    "name": "ipython",
    "version": 3
   },
   "file_extension": ".py",
   "mimetype": "text/x-python",
   "name": "python",
   "nbconvert_exporter": "python",
   "pygments_lexer": "ipython3",
   "version": "3.8.10"
  }
 },
 "nbformat": 4,
 "nbformat_minor": 5
}
